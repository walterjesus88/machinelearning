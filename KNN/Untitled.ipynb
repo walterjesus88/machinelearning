{
 "cells": [
  {
   "cell_type": "code",
   "execution_count": 1,
   "id": "28a77abd",
   "metadata": {},
   "outputs": [],
   "source": [
    "import pandas as pd\n",
    "from sklearn.model_selection import train_test_split\n",
    "from sklearn.neighbors import KNeighborsClassifier\n",
    "from sklearn.metrics import classification_report"
   ]
  },
  {
   "cell_type": "code",
   "execution_count": 3,
   "id": "663c98ef",
   "metadata": {},
   "outputs": [],
   "source": [
    "#cargar el dataset\n",
    "df= pd.read_csv('tienda_ropa.csv')"
   ]
  },
  {
   "cell_type": "code",
   "execution_count": 4,
   "id": "aeec9eab",
   "metadata": {},
   "outputs": [],
   "source": [
    "#convertir las caracteristicas en una forma que el algortimo knn pueda procesar\n",
    "X = df.drop(['propenso_a_comprar'], axis=1)\n",
    "y = df['propenso_a_comprar']"
   ]
  },
  {
   "cell_type": "code",
   "execution_count": null,
   "id": "9874a4b6",
   "metadata": {},
   "outputs": [],
   "source": [
    "X_train,X_test,y_train,y_test= "
   ]
  },
  {
   "cell_type": "code",
   "execution_count": null,
   "id": "ba32c045",
   "metadata": {},
   "outputs": [],
   "source": []
  }
 ],
 "metadata": {
  "kernelspec": {
   "display_name": "Python 3 (ipykernel)",
   "language": "python",
   "name": "python3"
  },
  "language_info": {
   "codemirror_mode": {
    "name": "ipython",
    "version": 3
   },
   "file_extension": ".py",
   "mimetype": "text/x-python",
   "name": "python",
   "nbconvert_exporter": "python",
   "pygments_lexer": "ipython3",
   "version": "3.9.12"
  }
 },
 "nbformat": 4,
 "nbformat_minor": 5
}
